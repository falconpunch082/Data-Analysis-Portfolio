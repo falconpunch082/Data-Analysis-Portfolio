{
 "cells": [
  {
   "cell_type": "code",
   "execution_count": 1,
   "id": "60b7b8ce",
   "metadata": {},
   "outputs": [
    {
     "data": {
      "text/html": [
       "<div>\n",
       "<style scoped>\n",
       "    .dataframe tbody tr th:only-of-type {\n",
       "        vertical-align: middle;\n",
       "    }\n",
       "\n",
       "    .dataframe tbody tr th {\n",
       "        vertical-align: top;\n",
       "    }\n",
       "\n",
       "    .dataframe thead th {\n",
       "        text-align: right;\n",
       "    }\n",
       "</style>\n",
       "<table border=\"1\" class=\"dataframe\">\n",
       "  <thead>\n",
       "    <tr style=\"text-align: right;\">\n",
       "      <th></th>\n",
       "      <th>Mouse ID</th>\n",
       "      <th>Timepoint</th>\n",
       "      <th>Tumor Volume (mm3)</th>\n",
       "      <th>Metastatic Sites</th>\n",
       "      <th>Drug Regimen</th>\n",
       "      <th>Sex</th>\n",
       "      <th>Age_months</th>\n",
       "      <th>Weight (g)</th>\n",
       "    </tr>\n",
       "  </thead>\n",
       "  <tbody>\n",
       "    <tr>\n",
       "      <th>0</th>\n",
       "      <td>b128</td>\n",
       "      <td>0</td>\n",
       "      <td>45.0</td>\n",
       "      <td>0</td>\n",
       "      <td>Capomulin</td>\n",
       "      <td>Female</td>\n",
       "      <td>9</td>\n",
       "      <td>22</td>\n",
       "    </tr>\n",
       "    <tr>\n",
       "      <th>1</th>\n",
       "      <td>f932</td>\n",
       "      <td>0</td>\n",
       "      <td>45.0</td>\n",
       "      <td>0</td>\n",
       "      <td>Ketapril</td>\n",
       "      <td>Male</td>\n",
       "      <td>15</td>\n",
       "      <td>29</td>\n",
       "    </tr>\n",
       "    <tr>\n",
       "      <th>2</th>\n",
       "      <td>g107</td>\n",
       "      <td>0</td>\n",
       "      <td>45.0</td>\n",
       "      <td>0</td>\n",
       "      <td>Ketapril</td>\n",
       "      <td>Female</td>\n",
       "      <td>2</td>\n",
       "      <td>29</td>\n",
       "    </tr>\n",
       "    <tr>\n",
       "      <th>3</th>\n",
       "      <td>a457</td>\n",
       "      <td>0</td>\n",
       "      <td>45.0</td>\n",
       "      <td>0</td>\n",
       "      <td>Ketapril</td>\n",
       "      <td>Female</td>\n",
       "      <td>11</td>\n",
       "      <td>30</td>\n",
       "    </tr>\n",
       "    <tr>\n",
       "      <th>4</th>\n",
       "      <td>c819</td>\n",
       "      <td>0</td>\n",
       "      <td>45.0</td>\n",
       "      <td>0</td>\n",
       "      <td>Ketapril</td>\n",
       "      <td>Male</td>\n",
       "      <td>21</td>\n",
       "      <td>25</td>\n",
       "    </tr>\n",
       "  </tbody>\n",
       "</table>\n",
       "</div>"
      ],
      "text/plain": [
       "  Mouse ID  Timepoint  Tumor Volume (mm3)  Metastatic Sites Drug Regimen  \\\n",
       "0     b128          0                45.0                 0    Capomulin   \n",
       "1     f932          0                45.0                 0     Ketapril   \n",
       "2     g107          0                45.0                 0     Ketapril   \n",
       "3     a457          0                45.0                 0     Ketapril   \n",
       "4     c819          0                45.0                 0     Ketapril   \n",
       "\n",
       "      Sex  Age_months  Weight (g)  \n",
       "0  Female           9          22  \n",
       "1    Male          15          29  \n",
       "2  Female           2          29  \n",
       "3  Female          11          30  \n",
       "4    Male          21          25  "
      ]
     },
     "execution_count": 1,
     "metadata": {},
     "output_type": "execute_result"
    }
   ],
   "source": [
    "# importing necessary libraries\n",
    "import matplotlib.pyplot as plt\n",
    "import pandas as pd\n",
    "import numpy as np\n",
    "import scipy.stats as st\n",
    "\n",
    "# file paths\n",
    "mouse_path = \"data/Mouse_metadata.csv\"\n",
    "study_path = \"data/Study_results.csv\"\n",
    "\n",
    "# reading .csv files to convert them to DataFrames\n",
    "mouse = pd.read_csv(mouse_path)\n",
    "study = pd.read_csv(study_path)\n",
    "\n",
    "# inner-merging DataFrames mouse and study so that\n",
    "# every result is associated with a mouse.\n",
    "complete = study.merge(mouse, how=\"left\", on=\"Mouse ID\")\n",
    "\n",
    "# displaying DataFrame\n",
    "complete.head(5)"
   ]
  },
  {
   "cell_type": "code",
   "execution_count": 2,
   "id": "277fbb1b",
   "metadata": {},
   "outputs": [
    {
     "data": {
      "text/plain": [
       "Mouse ID              1893\n",
       "Timepoint             1893\n",
       "Tumor Volume (mm3)    1893\n",
       "Metastatic Sites      1893\n",
       "Drug Regimen          1893\n",
       "Sex                   1893\n",
       "Age_months            1893\n",
       "Weight (g)            1893\n",
       "dtype: int64"
      ]
     },
     "execution_count": 2,
     "metadata": {},
     "output_type": "execute_result"
    }
   ],
   "source": [
    "# no null values in DataFrame, no need to dropna()\n",
    "# total of 1893 results\n",
    "complete.count()"
   ]
  },
  {
   "cell_type": "code",
   "execution_count": 3,
   "id": "1c9c274c",
   "metadata": {},
   "outputs": [
    {
     "data": {
      "text/plain": [
       "249"
      ]
     },
     "execution_count": 3,
     "metadata": {},
     "output_type": "execute_result"
    }
   ],
   "source": [
    "# checking number of mice\n",
    "len(mouse)"
   ]
  },
  {
   "cell_type": "code",
   "execution_count": 4,
   "id": "f621a018",
   "metadata": {},
   "outputs": [
    {
     "data": {
      "text/plain": [
       "Mouse ID  Timepoint\n",
       "g989      20           2\n",
       "          15           2\n",
       "          10           2\n",
       "          5            2\n",
       "          0            2\n",
       "a203      0            1\n",
       "q633      0            1\n",
       "q610      20           1\n",
       "          25           1\n",
       "          30           1\n",
       "          35           1\n",
       "q633      15           1\n",
       "          5            1\n",
       "          10           1\n",
       "q610      10           1\n",
       "q633      20           1\n",
       "          25           1\n",
       "q610      15           1\n",
       "q597      45           1\n",
       "q610      5            1\n",
       "dtype: int64"
      ]
     },
     "execution_count": 4,
     "metadata": {},
     "output_type": "execute_result"
    }
   ],
   "source": [
    "# checking how many times each mouse is recorded\n",
    "# seems that mouse g989 has duplicate recordings\n",
    "complete[[\"Mouse ID\", \"Timepoint\"]].value_counts().head(20)"
   ]
  },
  {
   "cell_type": "code",
   "execution_count": 5,
   "id": "2949e9b4",
   "metadata": {},
   "outputs": [
    {
     "data": {
      "text/html": [
       "<div>\n",
       "<style scoped>\n",
       "    .dataframe tbody tr th:only-of-type {\n",
       "        vertical-align: middle;\n",
       "    }\n",
       "\n",
       "    .dataframe tbody tr th {\n",
       "        vertical-align: top;\n",
       "    }\n",
       "\n",
       "    .dataframe thead th {\n",
       "        text-align: right;\n",
       "    }\n",
       "</style>\n",
       "<table border=\"1\" class=\"dataframe\">\n",
       "  <thead>\n",
       "    <tr style=\"text-align: right;\">\n",
       "      <th></th>\n",
       "      <th>Mouse ID</th>\n",
       "      <th>Timepoint</th>\n",
       "      <th>Tumor Volume (mm3)</th>\n",
       "      <th>Metastatic Sites</th>\n",
       "      <th>Drug Regimen</th>\n",
       "      <th>Sex</th>\n",
       "      <th>Age_months</th>\n",
       "      <th>Weight (g)</th>\n",
       "    </tr>\n",
       "  </thead>\n",
       "  <tbody>\n",
       "    <tr>\n",
       "      <th>0</th>\n",
       "      <td>b128</td>\n",
       "      <td>0</td>\n",
       "      <td>45.0</td>\n",
       "      <td>0</td>\n",
       "      <td>Capomulin</td>\n",
       "      <td>Female</td>\n",
       "      <td>9</td>\n",
       "      <td>22</td>\n",
       "    </tr>\n",
       "    <tr>\n",
       "      <th>1</th>\n",
       "      <td>f932</td>\n",
       "      <td>0</td>\n",
       "      <td>45.0</td>\n",
       "      <td>0</td>\n",
       "      <td>Ketapril</td>\n",
       "      <td>Male</td>\n",
       "      <td>15</td>\n",
       "      <td>29</td>\n",
       "    </tr>\n",
       "    <tr>\n",
       "      <th>2</th>\n",
       "      <td>g107</td>\n",
       "      <td>0</td>\n",
       "      <td>45.0</td>\n",
       "      <td>0</td>\n",
       "      <td>Ketapril</td>\n",
       "      <td>Female</td>\n",
       "      <td>2</td>\n",
       "      <td>29</td>\n",
       "    </tr>\n",
       "    <tr>\n",
       "      <th>3</th>\n",
       "      <td>a457</td>\n",
       "      <td>0</td>\n",
       "      <td>45.0</td>\n",
       "      <td>0</td>\n",
       "      <td>Ketapril</td>\n",
       "      <td>Female</td>\n",
       "      <td>11</td>\n",
       "      <td>30</td>\n",
       "    </tr>\n",
       "    <tr>\n",
       "      <th>4</th>\n",
       "      <td>c819</td>\n",
       "      <td>0</td>\n",
       "      <td>45.0</td>\n",
       "      <td>0</td>\n",
       "      <td>Ketapril</td>\n",
       "      <td>Male</td>\n",
       "      <td>21</td>\n",
       "      <td>25</td>\n",
       "    </tr>\n",
       "  </tbody>\n",
       "</table>\n",
       "</div>"
      ],
      "text/plain": [
       "  Mouse ID  Timepoint  Tumor Volume (mm3)  Metastatic Sites Drug Regimen  \\\n",
       "0     b128          0                45.0                 0    Capomulin   \n",
       "1     f932          0                45.0                 0     Ketapril   \n",
       "2     g107          0                45.0                 0     Ketapril   \n",
       "3     a457          0                45.0                 0     Ketapril   \n",
       "4     c819          0                45.0                 0     Ketapril   \n",
       "\n",
       "      Sex  Age_months  Weight (g)  \n",
       "0  Female           9          22  \n",
       "1    Male          15          29  \n",
       "2  Female           2          29  \n",
       "3  Female          11          30  \n",
       "4    Male          21          25  "
      ]
     },
     "execution_count": 5,
     "metadata": {},
     "output_type": "execute_result"
    }
   ],
   "source": [
    "# making a renewed complete DF (DataFrame complete without mouse g989)\n",
    "clean = complete[complete[\"Mouse ID\"] != \"g989\"]\n",
    "clean.head(5)"
   ]
  },
  {
   "cell_type": "code",
   "execution_count": 6,
   "id": "a17d712a",
   "metadata": {},
   "outputs": [
    {
     "data": {
      "text/plain": [
       "248"
      ]
     },
     "execution_count": 6,
     "metadata": {},
     "output_type": "execute_result"
    }
   ],
   "source": [
    "# checking that mouse g989 has been dropped\n",
    "clean[\"Mouse ID\"].nunique()"
   ]
  },
  {
   "cell_type": "markdown",
   "id": "a78509bb",
   "metadata": {},
   "source": [
    "## SUMMARY STATISTICS"
   ]
  },
  {
   "cell_type": "code",
   "execution_count": 7,
   "id": "bafe56a5",
   "metadata": {},
   "outputs": [
    {
     "data": {
      "text/html": [
       "<div>\n",
       "<style scoped>\n",
       "    .dataframe tbody tr th:only-of-type {\n",
       "        vertical-align: middle;\n",
       "    }\n",
       "\n",
       "    .dataframe tbody tr th {\n",
       "        vertical-align: top;\n",
       "    }\n",
       "\n",
       "    .dataframe thead th {\n",
       "        text-align: right;\n",
       "    }\n",
       "</style>\n",
       "<table border=\"1\" class=\"dataframe\">\n",
       "  <thead>\n",
       "    <tr style=\"text-align: right;\">\n",
       "      <th></th>\n",
       "      <th>Mean Tumor Volume</th>\n",
       "      <th>Median Tumor Volume</th>\n",
       "      <th>Tumor Volume Variance</th>\n",
       "      <th>Tumor Volume Std. Dev.</th>\n",
       "      <th>Tumor Volume Std. Err.</th>\n",
       "    </tr>\n",
       "    <tr>\n",
       "      <th>Drug Regimen</th>\n",
       "      <th></th>\n",
       "      <th></th>\n",
       "      <th></th>\n",
       "      <th></th>\n",
       "      <th></th>\n",
       "    </tr>\n",
       "  </thead>\n",
       "  <tbody>\n",
       "    <tr>\n",
       "      <th>Capomulin</th>\n",
       "      <td>40.675741</td>\n",
       "      <td>41.557809</td>\n",
       "      <td>24.947764</td>\n",
       "      <td>4.994774</td>\n",
       "      <td>0.329346</td>\n",
       "    </tr>\n",
       "    <tr>\n",
       "      <th>Ketapril</th>\n",
       "      <td>52.591172</td>\n",
       "      <td>51.776157</td>\n",
       "      <td>39.290177</td>\n",
       "      <td>6.268188</td>\n",
       "      <td>0.469821</td>\n",
       "    </tr>\n",
       "    <tr>\n",
       "      <th>Naftisol</th>\n",
       "      <td>52.884795</td>\n",
       "      <td>51.820584</td>\n",
       "      <td>43.128684</td>\n",
       "      <td>6.567243</td>\n",
       "      <td>0.492236</td>\n",
       "    </tr>\n",
       "    <tr>\n",
       "      <th>Infubinol</th>\n",
       "      <td>55.235638</td>\n",
       "      <td>53.698743</td>\n",
       "      <td>68.553577</td>\n",
       "      <td>8.279709</td>\n",
       "      <td>0.603860</td>\n",
       "    </tr>\n",
       "    <tr>\n",
       "      <th>Stelasyn</th>\n",
       "      <td>54.331565</td>\n",
       "      <td>52.509285</td>\n",
       "      <td>66.173479</td>\n",
       "      <td>8.134708</td>\n",
       "      <td>0.596466</td>\n",
       "    </tr>\n",
       "    <tr>\n",
       "      <th>Ramicane</th>\n",
       "      <td>54.033581</td>\n",
       "      <td>52.288934</td>\n",
       "      <td>61.168083</td>\n",
       "      <td>7.821003</td>\n",
       "      <td>0.581331</td>\n",
       "    </tr>\n",
       "    <tr>\n",
       "      <th>Zoniferol</th>\n",
       "      <td>52.320930</td>\n",
       "      <td>50.446266</td>\n",
       "      <td>43.852013</td>\n",
       "      <td>6.622085</td>\n",
       "      <td>0.544332</td>\n",
       "    </tr>\n",
       "    <tr>\n",
       "      <th>Propriva</th>\n",
       "      <td>40.216745</td>\n",
       "      <td>40.673236</td>\n",
       "      <td>23.486704</td>\n",
       "      <td>4.846308</td>\n",
       "      <td>0.320955</td>\n",
       "    </tr>\n",
       "    <tr>\n",
       "      <th>Placebo</th>\n",
       "      <td>54.233149</td>\n",
       "      <td>52.431737</td>\n",
       "      <td>59.450562</td>\n",
       "      <td>7.710419</td>\n",
       "      <td>0.573111</td>\n",
       "    </tr>\n",
       "    <tr>\n",
       "      <th>Ceftamin</th>\n",
       "      <td>53.236507</td>\n",
       "      <td>51.818479</td>\n",
       "      <td>48.533355</td>\n",
       "      <td>6.966589</td>\n",
       "      <td>0.516398</td>\n",
       "    </tr>\n",
       "  </tbody>\n",
       "</table>\n",
       "</div>"
      ],
      "text/plain": [
       "              Mean Tumor Volume  Median Tumor Volume  Tumor Volume Variance  \\\n",
       "Drug Regimen                                                                  \n",
       "Capomulin             40.675741            41.557809              24.947764   \n",
       "Ketapril              52.591172            51.776157              39.290177   \n",
       "Naftisol              52.884795            51.820584              43.128684   \n",
       "Infubinol             55.235638            53.698743              68.553577   \n",
       "Stelasyn              54.331565            52.509285              66.173479   \n",
       "Ramicane              54.033581            52.288934              61.168083   \n",
       "Zoniferol             52.320930            50.446266              43.852013   \n",
       "Propriva              40.216745            40.673236              23.486704   \n",
       "Placebo               54.233149            52.431737              59.450562   \n",
       "Ceftamin              53.236507            51.818479              48.533355   \n",
       "\n",
       "              Tumor Volume Std. Dev.  Tumor Volume Std. Err.  \n",
       "Drug Regimen                                                  \n",
       "Capomulin                   4.994774                0.329346  \n",
       "Ketapril                    6.268188                0.469821  \n",
       "Naftisol                    6.567243                0.492236  \n",
       "Infubinol                   8.279709                0.603860  \n",
       "Stelasyn                    8.134708                0.596466  \n",
       "Ramicane                    7.821003                0.581331  \n",
       "Zoniferol                   6.622085                0.544332  \n",
       "Propriva                    4.846308                0.320955  \n",
       "Placebo                     7.710419                0.573111  \n",
       "Ceftamin                    6.966589                0.516398  "
      ]
     },
     "execution_count": 7,
     "metadata": {},
     "output_type": "execute_result"
    }
   ],
   "source": [
    "# creating a table of mean, median, variance, standard deviation and SEM\n",
    "\n",
    "# creating an empty dictionary with to-be-columns as keys to store data\n",
    "summary_dict = {\"Drug Regimen\": None, \"Mean Tumor Volume\": None, \n",
    "                \"Median Tumor Volume\": None, \"Tumor Volume Variance\": None,\n",
    "                \"Tumor Volume Std. Dev.\": None, \"Tumor Volume Std. Err.\": None}\n",
    "\n",
    "# filling drug regiment key with list of unique treatments\n",
    "treatment_list = list(clean[\"Drug Regimen\"].unique())\n",
    "summary_dict[\"Drug Regimen\"] = treatment_list\n",
    "    \n",
    "# filling mean key with mean of each regiment \n",
    "tumor_mean = clean.groupby(\"Drug Regimen\")[\"Tumor Volume (mm3)\"].mean()\n",
    "summary_dict[\"Mean Tumor Volume\"] = tumor_mean.tolist()\n",
    "\n",
    "# filling median key with median of each regiment \n",
    "tumor_median = clean.groupby(\"Drug Regimen\")[\"Tumor Volume (mm3)\"].median()\n",
    "summary_dict[\"Median Tumor Volume\"] = tumor_median.tolist()\n",
    "\n",
    "# filling variance key with variance of each regiment \n",
    "tumor_var = clean.groupby(\"Drug Regimen\")[\"Tumor Volume (mm3)\"].var()\n",
    "summary_dict[\"Tumor Volume Variance\"] = tumor_var.tolist()\n",
    "\n",
    "# filling std. dev. key with std. dev. of each regiment \n",
    "tumor_std = clean.groupby(\"Drug Regimen\")[\"Tumor Volume (mm3)\"].std()\n",
    "summary_dict[\"Tumor Volume Std. Dev.\"] = tumor_std.tolist()\n",
    "\n",
    "# filling std. err. key with std. err. of each regiment\n",
    "# using apply() and lambda function as std. err. function comes from SciPy, not NumPy\n",
    "tumor_sem = clean.groupby(\"Drug Regimen\")[\"Tumor Volume (mm3)\"].apply(lambda x: st.sem(x))\n",
    "summary_dict[\"Tumor Volume Std. Err.\"] = tumor_sem.tolist()\n",
    "\n",
    "# converting list to DataFrame\n",
    "summary_df = pd.DataFrame(summary_dict)\n",
    "summary_df.set_index(\"Drug Regimen\", inplace=True)\n",
    "\n",
    "# displaying DataFrame\n",
    "summary_df"
   ]
  },
  {
   "cell_type": "markdown",
   "id": "80b69318",
   "metadata": {},
   "source": [
    "## BAR AND PIE CHARTS"
   ]
  },
  {
   "cell_type": "code",
   "execution_count": 8,
   "id": "fefd4ba5",
   "metadata": {},
   "outputs": [
    {
     "data": {
      "image/png": "[encoded data removed]",
      "text/plain": [
       "<Figure size 640x480 with 1 Axes>"
      ]
     },
     "metadata": {},
     "output_type": "display_data"
    }
   ],
   "source": [
    "# bar - using DataFrame.plot()\n",
    "\n",
    "# creating new DataFrame containing only drug regimen and count of timepoints recorded\n",
    "drug_timepoint_count = clean.groupby(\"Drug Regimen\")[\"Mouse ID\"].count().sort_values(ascending=False).to_frame()\n",
    "\n",
    "# creating bar chart using the new DataFrame\n",
    "drug_timepoint_count.plot(kind=\"bar\")\n",
    "plt.xlabel(\"Drug Regimen\")\n",
    "plt.ylabel(\"# of Observed Mouse Timepoints\")\n",
    "plt.legend().remove()\n",
    "plt.show()"
   ]
  },
  {
   "cell_type": "code",
   "execution_count": 9,
   "id": "3f15bc8d",
   "metadata": {},
   "outputs": [
    {
     "data": {
      "image/png": "[encoded data removed]",
      "text/plain": [
       "<Figure size 640x480 with 1 Axes>"
      ]
     },
     "metadata": {},
     "output_type": "display_data"
    }
   ],
   "source": [
    "# bar - using pyplot\n",
    "\n",
    "# creating x and y values, and also list of drug regimens\n",
    "x_axis = np.arange(len(drug_timepoint_count[\"Mouse ID\"]))\n",
    "count = drug_timepoint_count[\"Mouse ID\"]\n",
    "\n",
    "drc_ri = drug_timepoint_count.reset_index()\n",
    "drug_list = drc_ri[\"Drug Regimen\"]\n",
    "\n",
    "# creating bar chart using DataFrame drug_timepoint_count\n",
    "plt.bar(x_axis, count)\n",
    "plt.xticks(x_axis, drug_list, rotation=90)\n",
    "plt.xlabel(\"Drug Regimen\")\n",
    "plt.ylabel(\"# of Observed Mouse Timepoints\")\n",
    "plt.show()"
   ]
  },
  {
   "cell_type": "code",
   "execution_count": 10,
   "id": "63279f9d",
   "metadata": {},
   "outputs": [
    {
     "data": {
      "image/png": "[encoded data removed]",
      "text/plain": [
       "<Figure size 640x480 with 1 Axes>"
      ]
     },
     "metadata": {},
     "output_type": "display_data"
    }
   ],
   "source": [
    "# pie - using DataFrame.plot()\n",
    "\n",
    "# creating new DataFrame containing amount of male and female mice\n",
    "sex_count = clean.groupby(\"Sex\")[\"Mouse ID\"].count().to_frame()\n",
    "\n",
    "# creating pie chart with DataFrame sex_count\n",
    "sex_count.plot(kind=\"pie\", subplots=True, colors=['orange', 'lightskyblue'], startangle=180, autopct=\"%1.1f%%\")\n",
    "plt.ylabel(\"Sex\")\n",
    "plt.legend().remove()\n",
    "plt.show()"
   ]
  },
  {
   "cell_type": "code",
   "execution_count": 11,
   "id": "b3530b8b",
   "metadata": {},
   "outputs": [
    {
     "data": {
      "image/png": "[encoded data removed]",
      "text/plain": [
       "<Figure size 640x480 with 1 Axes>"
      ]
     },
     "metadata": {},
     "output_type": "display_data"
    }
   ],
   "source": [
    "# pie - using pyplot\n",
    "\n",
    "# creating labels\n",
    "labels = [\"Male\", \"Female\"]\n",
    "\n",
    "# creating sizes\n",
    "sizes = [clean.groupby(\"Sex\")[\"Mouse ID\"].count()[\"Male\"], \n",
    "         clean.groupby(\"Sex\")[\"Mouse ID\"].count()[\"Female\"]]\n",
    "\n",
    "# assigning colours\n",
    "colours = ['lightskyblue', 'orange']\n",
    "\n",
    "# creating pie chart\n",
    "plt.pie(sizes, labels=labels, colors=colours, autopct=\"%1.1f%%\")\n",
    "plt.ylabel(\"Sex\")\n",
    "plt.show()"
   ]
  },
  {
   "cell_type": "markdown",
   "id": "dee73e13",
   "metadata": {},
   "source": [
    "## QUARTILES, OUTLIERS AND BOXPLOTS"
   ]
  },
  {
   "cell_type": "code",
   "execution_count": 12,
   "id": "10c79b4f",
   "metadata": {},
   "outputs": [
    {
     "data": {
      "text/html": [
       "<div>\n",
       "<style scoped>\n",
       "    .dataframe tbody tr th:only-of-type {\n",
       "        vertical-align: middle;\n",
       "    }\n",
       "\n",
       "    .dataframe tbody tr th {\n",
       "        vertical-align: top;\n",
       "    }\n",
       "\n",
       "    .dataframe thead th {\n",
       "        text-align: right;\n",
       "    }\n",
       "</style>\n",
       "<table border=\"1\" class=\"dataframe\">\n",
       "  <thead>\n",
       "    <tr style=\"text-align: right;\">\n",
       "      <th></th>\n",
       "      <th>Mouse ID</th>\n",
       "      <th>Timepoint</th>\n",
       "      <th>Tumor Volume (mm3)</th>\n",
       "      <th>Metastatic Sites</th>\n",
       "      <th>Drug Regimen</th>\n",
       "      <th>Sex</th>\n",
       "      <th>Age_months</th>\n",
       "      <th>Weight (g)</th>\n",
       "    </tr>\n",
       "  </thead>\n",
       "  <tbody>\n",
       "    <tr>\n",
       "      <th>0</th>\n",
       "      <td>a203</td>\n",
       "      <td>45</td>\n",
       "      <td>67.973419</td>\n",
       "      <td>2</td>\n",
       "      <td>Infubinol</td>\n",
       "      <td>Female</td>\n",
       "      <td>20</td>\n",
       "      <td>23</td>\n",
       "    </tr>\n",
       "    <tr>\n",
       "      <th>1</th>\n",
       "      <td>a251</td>\n",
       "      <td>45</td>\n",
       "      <td>65.525743</td>\n",
       "      <td>1</td>\n",
       "      <td>Infubinol</td>\n",
       "      <td>Female</td>\n",
       "      <td>21</td>\n",
       "      <td>25</td>\n",
       "    </tr>\n",
       "    <tr>\n",
       "      <th>2</th>\n",
       "      <td>a262</td>\n",
       "      <td>45</td>\n",
       "      <td>70.717621</td>\n",
       "      <td>4</td>\n",
       "      <td>Placebo</td>\n",
       "      <td>Female</td>\n",
       "      <td>17</td>\n",
       "      <td>29</td>\n",
       "    </tr>\n",
       "    <tr>\n",
       "      <th>3</th>\n",
       "      <td>a275</td>\n",
       "      <td>45</td>\n",
       "      <td>62.999356</td>\n",
       "      <td>3</td>\n",
       "      <td>Ceftamin</td>\n",
       "      <td>Female</td>\n",
       "      <td>20</td>\n",
       "      <td>28</td>\n",
       "    </tr>\n",
       "    <tr>\n",
       "      <th>4</th>\n",
       "      <td>a366</td>\n",
       "      <td>30</td>\n",
       "      <td>63.440686</td>\n",
       "      <td>1</td>\n",
       "      <td>Stelasyn</td>\n",
       "      <td>Female</td>\n",
       "      <td>16</td>\n",
       "      <td>29</td>\n",
       "    </tr>\n",
       "    <tr>\n",
       "      <th>5</th>\n",
       "      <td>a401</td>\n",
       "      <td>45</td>\n",
       "      <td>66.794156</td>\n",
       "      <td>4</td>\n",
       "      <td>Zoniferol</td>\n",
       "      <td>Female</td>\n",
       "      <td>8</td>\n",
       "      <td>25</td>\n",
       "    </tr>\n",
       "    <tr>\n",
       "      <th>6</th>\n",
       "      <td>a411</td>\n",
       "      <td>45</td>\n",
       "      <td>38.407618</td>\n",
       "      <td>1</td>\n",
       "      <td>Ramicane</td>\n",
       "      <td>Male</td>\n",
       "      <td>3</td>\n",
       "      <td>22</td>\n",
       "    </tr>\n",
       "    <tr>\n",
       "      <th>7</th>\n",
       "      <td>a444</td>\n",
       "      <td>45</td>\n",
       "      <td>43.047543</td>\n",
       "      <td>0</td>\n",
       "      <td>Ramicane</td>\n",
       "      <td>Female</td>\n",
       "      <td>10</td>\n",
       "      <td>25</td>\n",
       "    </tr>\n",
       "    <tr>\n",
       "      <th>8</th>\n",
       "      <td>a457</td>\n",
       "      <td>10</td>\n",
       "      <td>49.783419</td>\n",
       "      <td>0</td>\n",
       "      <td>Ketapril</td>\n",
       "      <td>Female</td>\n",
       "      <td>11</td>\n",
       "      <td>30</td>\n",
       "    </tr>\n",
       "    <tr>\n",
       "      <th>9</th>\n",
       "      <td>a492</td>\n",
       "      <td>45</td>\n",
       "      <td>60.122011</td>\n",
       "      <td>1</td>\n",
       "      <td>Stelasyn</td>\n",
       "      <td>Male</td>\n",
       "      <td>20</td>\n",
       "      <td>25</td>\n",
       "    </tr>\n",
       "  </tbody>\n",
       "</table>\n",
       "</div>"
      ],
      "text/plain": [
       "  Mouse ID  Timepoint  Tumor Volume (mm3)  Metastatic Sites Drug Regimen  \\\n",
       "0     a203         45           67.973419                 2    Infubinol   \n",
       "1     a251         45           65.525743                 1    Infubinol   \n",
       "2     a262         45           70.717621                 4      Placebo   \n",
       "3     a275         45           62.999356                 3     Ceftamin   \n",
       "4     a366         30           63.440686                 1     Stelasyn   \n",
       "5     a401         45           66.794156                 4    Zoniferol   \n",
       "6     a411         45           38.407618                 1     Ramicane   \n",
       "7     a444         45           43.047543                 0     Ramicane   \n",
       "8     a457         10           49.783419                 0     Ketapril   \n",
       "9     a492         45           60.122011                 1     Stelasyn   \n",
       "\n",
       "      Sex  Age_months  Weight (g)  \n",
       "0  Female          20          23  \n",
       "1  Female          21          25  \n",
       "2  Female          17          29  \n",
       "3  Female          20          28  \n",
       "4  Female          16          29  \n",
       "5  Female           8          25  \n",
       "6    Male           3          22  \n",
       "7  Female          10          25  \n",
       "8  Female          11          30  \n",
       "9    Male          20          25  "
      ]
     },
     "execution_count": 12,
     "metadata": {},
     "output_type": "execute_result"
    }
   ],
   "source": [
    "# sort Mouse ID in preparation of iteration\n",
    "clean_mouse_sort = clean.sort_values([\"Mouse ID\", \"Timepoint\"], ascending=[True, True]).reset_index(inplace=False, drop=True)\n",
    "\n",
    "# preparing variables needed for iteration\n",
    "clean_mouse_sort_range = np.arange(0, len(clean_mouse_sort))\n",
    "clean_mouse_sort_len = len(clean_mouse_sort) - 1\n",
    "\n",
    "# creating empty lists to put results in\n",
    "final_timepoint = []\n",
    "\n",
    "# iterating through clean_mouse_sort DataFrame so that final_timepoint\n",
    "# is always filled with the last entry of each mouse, which due to\n",
    "# the sort done before, will be also the final timepoint for each mouse.\n",
    "for row in clean_mouse_sort_range:\n",
    "    if row < clean_mouse_sort_len:\n",
    "        if clean_mouse_sort.iloc[row, 0] != clean_mouse_sort.iloc[row+1, 0]:\n",
    "            final_timepoint.append(clean_mouse_sort.iloc[row, :].to_dict())\n",
    "        else:\n",
    "            continue\n",
    "    else:\n",
    "        final_timepoint.append(clean_mouse_sort.iloc[clean_mouse_sort_len, :].to_dict())\n",
    "        break\n",
    "        \n",
    "ft_df = pd.DataFrame(final_timepoint)\n",
    "ft_df.head(10)"
   ]
  },
  {
   "cell_type": "code",
   "execution_count": 21,
   "id": "918701bf",
   "metadata": {
    "scrolled": true
   },
   "outputs": [
    {
     "data": {
      "image/png": "[encoded data removed]",
      "text/plain": [
       "<Figure size 640x480 with 1 Axes>"
      ]
     },
     "metadata": {},
     "output_type": "display_data"
    }
   ],
   "source": [
    "# creating list of final tumor volume of each mouse\n",
    "# under each of the 4 most promising treatments\n",
    "capomulin = ft_df.groupby(\"Drug Regimen\")[\"Tumor Volume (mm3)\"].unique()[\"Capomulin\"]\n",
    "ramicane = ft_df.groupby(\"Drug Regimen\")[\"Tumor Volume (mm3)\"].unique()[\"Ramicane\"]\n",
    "infubinol = ft_df.groupby(\"Drug Regimen\")[\"Tumor Volume (mm3)\"].unique()[\"Infubinol\"]\n",
    "ceftamin = ft_df.groupby(\"Drug Regimen\")[\"Tumor Volume (mm3)\"].unique()[\"Ceftamin\"]\n",
    "\n",
    "# setting up how outliers are seen in final result\n",
    "flierprops = dict(marker='o', markerfacecolor='red', markersize=12,\n",
    "                  linestyle='none')\n",
    "\n",
    "# setting up boxplots\n",
    "fig1, ax1 = plt.subplots()\n",
    "ax1.set_ylabel(\"Final Tumor Volume (mm3)\")\n",
    "ax1.boxplot([capomulin, ramicane, infubinol, ceftamin], flierprops=flierprops)\n",
    "ax1.set_xticks([1, 2, 3, 4], [\"Capomulin\", \"Ramicane\", \"Infubinol\", \"Ceftamin\"])\n",
    "plt.tight_layout()\n",
    "\n",
    "#showing boxplots\n",
    "plt.show()"
   ]
  },
  {
   "cell_type": "code",
   "execution_count": 14,
   "id": "a41eeb41",
   "metadata": {},
   "outputs": [
    {
     "name": "stdout",
     "output_type": "stream",
     "text": [
      "Capomulin's potential outliers: []\n",
      "Ramicane's potential outliers: []\n",
      "Infubinol's potential outliers: [36.3213458]\n",
      "Ceftamin's potential outliers: []\n"
     ]
    }
   ],
   "source": [
    "# calculating upper and lower bound for each drug\n",
    "# q=quantile list, lq=lower quantile, uq=upper quantile, iqr=IQR,\n",
    "# lb=lower bound, ub=upper_bound\n",
    "\n",
    "# capomulin\n",
    "ca_df = pd.DataFrame(capomulin)\n",
    "\n",
    "outlier_list = []\n",
    "\n",
    "q = ca_df.quantile([.25, .5, .75])\n",
    "lq = q.iloc[0, 0]\n",
    "uq = q.iloc[2, 0]\n",
    "iqr = uq - lq\n",
    "lb = lq - (1.5*iqr)\n",
    "ub = uq + (1.5*iqr)\n",
    "\n",
    "for value in ramicane:\n",
    "    if value < lb or value > ub:\n",
    "        outlier_list.append(value)\n",
    "    else:\n",
    "        continue\n",
    "            \n",
    "print(\"Capomulin's potential outliers: \" + str(outlier_list))\n",
    "\n",
    "# ramicane\n",
    "ra_df = pd.DataFrame(ramicane)\n",
    "\n",
    "outlier_list = []\n",
    "\n",
    "q = ra_df.quantile([.25, .5, .75])\n",
    "lq = q.iloc[0, 0]\n",
    "uq = q.iloc[2, 0]\n",
    "iqr = uq - lq\n",
    "lb = lq - (1.5*iqr)\n",
    "ub = uq + (1.5*iqr)\n",
    "\n",
    "for value in ramicane:\n",
    "    if value < lb or value > ub:\n",
    "        outlier_list.append(value)\n",
    "    else:\n",
    "        continue\n",
    "            \n",
    "print(\"Ramicane's potential outliers: \" + str(outlier_list))\n",
    "\n",
    "# ramicane\n",
    "in_df = pd.DataFrame(infubinol)\n",
    "\n",
    "outlier_list = []\n",
    "\n",
    "q = in_df.quantile([.25, .5, .75])\n",
    "lq = q.iloc[0, 0]\n",
    "uq = q.iloc[2, 0]\n",
    "iqr = uq - lq\n",
    "lb = lq - (1.5*iqr)\n",
    "ub = uq + (1.5*iqr)\n",
    "\n",
    "for value in infubinol:\n",
    "    if value < lb or value > ub:\n",
    "        outlier_list.append(value)\n",
    "    else:\n",
    "        continue\n",
    "            \n",
    "print(\"Infubinol's potential outliers: \" + str(outlier_list))\n",
    "\n",
    "# ceftamin\n",
    "ce_df = pd.DataFrame(ceftamin)\n",
    "\n",
    "outlier_list = []\n",
    "\n",
    "q = ce_df.quantile([.25, .5, .75])\n",
    "lq = q.iloc[0, 0]\n",
    "uq = q.iloc[2, 0]\n",
    "iqr = uq - lq\n",
    "lb = lq - (1.5*iqr)\n",
    "ub = uq + (1.5*iqr)\n",
    "\n",
    "for value in ceftamin:\n",
    "    if value < lb or value > ub:\n",
    "        outlier_list.append(value)\n",
    "    else:\n",
    "        continue\n",
    "            \n",
    "print(\"Ceftamin's potential outliers: \" + str(outlier_list))\n"
   ]
  },
  {
   "cell_type": "markdown",
   "id": "1008b509",
   "metadata": {},
   "source": [
    "Notes: \n",
    "- I have no idea how to rectify Infubinol's outlier output, but it seems to be related to the previous cell.\n",
    "- I know that I could make this a function, I just don't know how to make it make sense. It's more time efficient for me to do it manually at this stage."
   ]
  },
  {
   "cell_type": "markdown",
   "id": "da36410f",
   "metadata": {},
   "source": [
    "## LINE AND SCATTER PLOTS"
   ]
  },
  {
   "cell_type": "code",
   "execution_count": 15,
   "id": "8da86cb1",
   "metadata": {},
   "outputs": [
    {
     "data": {
      "text/html": [
       "<div>\n",
       "<style scoped>\n",
       "    .dataframe tbody tr th:only-of-type {\n",
       "        vertical-align: middle;\n",
       "    }\n",
       "\n",
       "    .dataframe tbody tr th {\n",
       "        vertical-align: top;\n",
       "    }\n",
       "\n",
       "    .dataframe thead th {\n",
       "        text-align: right;\n",
       "    }\n",
       "</style>\n",
       "<table border=\"1\" class=\"dataframe\">\n",
       "  <thead>\n",
       "    <tr style=\"text-align: right;\">\n",
       "      <th></th>\n",
       "      <th>Mouse ID</th>\n",
       "      <th>Timepoint</th>\n",
       "      <th>Tumor Volume (mm3)</th>\n",
       "      <th>Metastatic Sites</th>\n",
       "      <th>Drug Regimen</th>\n",
       "      <th>Sex</th>\n",
       "      <th>Age_months</th>\n",
       "      <th>Weight (g)</th>\n",
       "    </tr>\n",
       "  </thead>\n",
       "  <tbody>\n",
       "    <tr>\n",
       "      <th>0</th>\n",
       "      <td>b128</td>\n",
       "      <td>0</td>\n",
       "      <td>45.0</td>\n",
       "      <td>0</td>\n",
       "      <td>Capomulin</td>\n",
       "      <td>Female</td>\n",
       "      <td>9</td>\n",
       "      <td>22</td>\n",
       "    </tr>\n",
       "  </tbody>\n",
       "</table>\n",
       "</div>"
      ],
      "text/plain": [
       "  Mouse ID  Timepoint  Tumor Volume (mm3)  Metastatic Sites Drug Regimen  \\\n",
       "0     b128          0                45.0                 0    Capomulin   \n",
       "\n",
       "      Sex  Age_months  Weight (g)  \n",
       "0  Female           9          22  "
      ]
     },
     "execution_count": 15,
     "metadata": {},
     "output_type": "execute_result"
    }
   ],
   "source": [
    "# creating DataFrame with only mice treated with Capomulin\n",
    "capomulin_mice = clean[clean[\"Drug Regimen\"] == \"Capomulin\"]\n",
    "\n",
    "# deciding on what mouse to focus on\n",
    "capomulin_mice.head(1)"
   ]
  },
  {
   "cell_type": "code",
   "execution_count": 16,
   "id": "5135a513",
   "metadata": {},
   "outputs": [
    {
     "data": {
      "image/png": "[encoded data removed]",
      "text/plain": [
       "<Figure size 640x480 with 1 Axes>"
      ]
     },
     "metadata": {},
     "output_type": "display_data"
    }
   ],
   "source": [
    "# creating DataFrame specific to the progress of mouse B128\n",
    "b128_log = clean[clean[\"Mouse ID\"] == \"b128\"]\n",
    "b128_log.set_index(\"Timepoint\", drop=True, inplace=True)\n",
    "\n",
    "# creating DataFrame containing only timepoint and tumor volume\n",
    "clean_b128_log = b128_log[\"Tumor Volume (mm3)\"].to_frame()\n",
    "\n",
    "# creating line plot\n",
    "clean_b128_log.plot(kind=\"line\")\n",
    "plt.xlabel(\"Timepoint (days)\")\n",
    "plt.ylabel(\"Tumor Volume (mm3)\")\n",
    "plt.title(\"Capomulin treatment of Mouse B128\")\n",
    "plt.legend().remove()\n",
    "plt.show()"
   ]
  },
  {
   "cell_type": "code",
   "execution_count": 17,
   "id": "6a0775fb",
   "metadata": {
    "scrolled": true
   },
   "outputs": [
    {
     "data": {
      "image/png": "[encoded data removed]",
      "text/plain": [
       "<Figure size 640x480 with 1 Axes>"
      ]
     },
     "metadata": {},
     "output_type": "display_data"
    }
   ],
   "source": [
    "# creating DataFrame \n",
    "avg_tumor_vol = capomulin_mice.groupby(\"Mouse ID\")[\"Tumor Volume (mm3)\"].mean()\n",
    "\n",
    "mouse_avg_tumor_vol = mouse.merge(avg_tumor_vol, how=\"right\", on=\"Mouse ID\")\n",
    "\n",
    "weight_tumor_vol = mouse_avg_tumor_vol[[\"Weight (g)\", \"Tumor Volume (mm3)\"]]\n",
    "\n",
    "# creating scatter plot\n",
    "plt.scatter(weight_tumor_vol[\"Weight (g)\"], weight_tumor_vol[\"Tumor Volume (mm3)\"])\n",
    "plt.xlabel(\"Weight (g)\")\n",
    "plt.ylabel(\"Average Tumor Volume (mm3)\")\n",
    "plt.show()"
   ]
  },
  {
   "cell_type": "markdown",
   "id": "8b817560",
   "metadata": {},
   "source": [
    "## CORRELATION AND REGRESSION"
   ]
  },
  {
   "cell_type": "code",
   "execution_count": 18,
   "id": "45c64d6d",
   "metadata": {},
   "outputs": [
    {
     "name": "stdout",
     "output_type": "stream",
     "text": [
      "The correlation between mouse weight and the average tumor volume is 0.84\n"
     ]
    },
    {
     "data": {
      "image/png": "[encoded data removed]",
      "text/plain": [
       "<Figure size 640x480 with 1 Axes>"
      ]
     },
     "metadata": {},
     "output_type": "display_data"
    }
   ],
   "source": [
    "# creating linear regression model\n",
    "x_values = weight_tumor_vol[\"Weight (g)\"]\n",
    "y_values = weight_tumor_vol[\"Tumor Volume (mm3)\"]\n",
    "(slope, intercept, rvalue, pvalue, stderr) = st.linregress(x_values, y_values)\n",
    "regress_values = x_values * slope + intercept\n",
    "\n",
    "# determining correlation between both variables\n",
    "corr = weight_tumor_vol[\"Weight (g)\"].corr(weight_tumor_vol[\"Tumor Volume (mm3)\"])\n",
    "print(\"The correlation between mouse weight and the average tumor volume is \" + \n",
    "        str(round(corr, 2)))\n",
    "\n",
    "# creating scatter plot with linear regression model\n",
    "plt.scatter(weight_tumor_vol[\"Weight (g)\"], weight_tumor_vol[\"Tumor Volume (mm3)\"])\n",
    "plt.plot(x_values,regress_values,\"r-\")\n",
    "plt.xlabel(\"Weight (g)\")\n",
    "plt.ylabel(\"Average Tumor Volume (mm3)\")\n",
    "plt.show()"
   ]
  }
 ],
 "metadata": {
  "kernelspec": {
   "display_name": "Python 3 (ipykernel)",
   "language": "python",
   "name": "python3"
  },
  "language_info": {
   "codemirror_mode": {
    "name": "ipython",
    "version": 3
   },
   "file_extension": ".py",
   "mimetype": "text/x-python",
   "name": "python",
   "nbconvert_exporter": "python",
   "pygments_lexer": "ipython3",
   "version": "3.11.4"
  }
 },
 "nbformat": 4,
 "nbformat_minor": 5
}
